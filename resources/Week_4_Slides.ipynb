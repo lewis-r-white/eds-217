{
 "cells": [
  {
   "cell_type": "markdown",
   "metadata": {
    "slideshow": {
     "slide_type": "slide"
    }
   },
   "source": [
    "# G136: Week 4 Slides"
   ]
  },
  {
   "cell_type": "markdown",
   "metadata": {
    "slideshow": {
     "slide_type": "slide"
    }
   },
   "source": [
    "# Today's Agenda\n",
    "\n",
    "1. Exercise 1.5\n",
    "    - Review & Discussion\n",
    "1. Course overview: where we've been and where we're headed\n",
    "    - What to expect\n",
    "    - Outline of the remainder of the quarter\n",
    "1. Import statements"
   ]
  },
  {
   "cell_type": "markdown",
   "metadata": {
    "slideshow": {
     "slide_type": "slide"
    }
   },
   "source": [
    "# Exercise 1.5\n",
    "\n",
    "\n",
    "Review & Discussion"
   ]
  },
  {
   "cell_type": "markdown",
   "metadata": {
    "slideshow": {
     "slide_type": "slide"
    }
   },
   "source": [
    "# Course overview: where we've been\n",
    "\n",
    "Introduction to Python, Fundamentals of Python Programming"
   ]
  },
  {
   "cell_type": "markdown",
   "metadata": {
    "slideshow": {
     "slide_type": "slide"
    }
   },
   "source": [
    "# Where we're going"
   ]
  },
  {
   "cell_type": "markdown",
   "metadata": {
    "slideshow": {
     "slide_type": "subslide"
    }
   },
   "source": [
    "## Environmental Data Science in Python\n",
    "\n",
    "Handing off the reins..."
   ]
  },
  {
   "cell_type": "markdown",
   "metadata": {
    "slideshow": {
     "slide_type": "subslide"
    }
   },
   "source": [
    "\n",
    "\n",
    "## Week 4. Fundamentals of Python Programming II – April 20-26\n",
    "(Catchment Water Balance)\n",
    "\n",
    "---\n",
    "\n",
    "Exercises: 1.5 – Functions + Classes\n",
    "\n",
    "Pick a library for the Library Show-and-Tell\n",
    "\n",
    "## Week 5. Introduction to Data Analysis in Python – April 27-May 3\n",
    "Catchment Water Balance\n",
    "\n",
    "---\n",
    "\n",
    "Exercises: 2.1 – NumPy\n",
    "<br> <span style=\"margin-left: 124pt\"> 2.2 – Pandas</span> </br>\n",
    "\n",
    "Lab 1\n",
    "\n",
    "## Week 6. Data Visualization – May 4-10\n",
    "Probability + Stochastic Processes\n",
    "\n",
    "---\n",
    "Exercises: 2.3 – Matplotlib\n",
    "<br> <span style=\"margin-left: 124pt\"> 2.3b – Plotting environmental data</span> </br>\n",
    "\n",
    "Lab 1\n",
    "\n",
    "Python Library Show-and-Tell"
   ]
  },
  {
   "cell_type": "markdown",
   "metadata": {
    "slideshow": {
     "slide_type": "subslide"
    }
   },
   "source": [
    "## Week 7. Statistics in Python – May 11-17\n",
    "\n",
    "Landscape Energy Balance\n",
    "\n",
    "---\n",
    "\n",
    "Exercises: 2.4 – Statistics in Python\n",
    "\n",
    "Lab 1 Due\n",
    "<br>Lab 2</br>\n",
    "\n",
    "Python Library Show-and-Tell\n",
    "\n",
    "Final Project Proposal Due\n",
    "\n",
    "## Week 8. Distributions + Modeling – May 18-25\n",
    "\n",
    "---\n",
    "\n",
    "Exercises: 2.5 – Probability, Distribution fitting, + Modeling\n",
    "\n",
    "Lab 2\n",
    "\n",
    "Python Library Show-and-Tell\n",
    "\n",
    "Work on Final Projects"
   ]
  },
  {
   "cell_type": "markdown",
   "metadata": {
    "slideshow": {
     "slide_type": "subslide"
    }
   },
   "source": [
    "## Week 9. Python IDEs – May 26-31\n",
    "\n",
    "---\n",
    "\n",
    "Exercises: None\n",
    "\n",
    "Lab 2 Due\n",
    "\n",
    "Work on Final Projects\n",
    "\n",
    "## Week 10. Final Projects – June 1-7\n",
    "\n",
    "---\n",
    "\n",
    "Work on Final Projects\n",
    "\n",
    "## Week 11. Final Project Presentations – June 8-14\n",
    "\n",
    "---\n",
    "\n",
    "Final Project Presentations"
   ]
  },
  {
   "cell_type": "markdown",
   "metadata": {
    "slideshow": {
     "slide_type": "slide"
    }
   },
   "source": [
    "## The End"
   ]
  }
 ],
 "metadata": {
  "celltoolbar": "Slideshow",
  "kernelspec": {
   "display_name": "Python 3 (ipykernel)",
   "language": "python",
   "name": "python3"
  },
  "language_info": {
   "codemirror_mode": {
    "name": "ipython",
    "version": 3
   },
   "file_extension": ".py",
   "mimetype": "text/x-python",
   "name": "python",
   "nbconvert_exporter": "python",
   "pygments_lexer": "ipython3",
   "version": "3.10.5"
  }
 },
 "nbformat": 4,
 "nbformat_minor": 4
}
