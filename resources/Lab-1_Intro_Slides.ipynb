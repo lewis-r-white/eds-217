{
 "cells": [
  {
   "cell_type": "markdown",
   "metadata": {
    "slideshow": {
     "slide_type": "slide"
    }
   },
   "source": [
    "# Lab 1: Estimating Basin Waterbalance"
   ]
  },
  {
   "cell_type": "markdown",
   "metadata": {
    "slideshow": {
     "slide_type": "slide"
    }
   },
   "source": [
    "## 1. Setting up the Lab\n",
    "\n",
    "- [`pygeohydro`](https://hydrodata.readthedocs.io/en/v0.9.2/) is a Python library designed to aid in  watershed analysis. \n",
    "- Pygeohydro is capable of downloading, preprocessing, and visualizing climatological, hydrological, and geographical datasets pertaining to a given watershed.\n",
    "- Supported datasets include: Daymet climate, USGS streamflow, and data from the National Land Cover Dataset."
   ]
  },
  {
   "cell_type": "markdown",
   "metadata": {
    "slideshow": {
     "slide_type": "subslide"
    }
   },
   "source": [
    "#### 2.1 PyGeoHydro (formerly hydrodata)\n",
    "\n",
    "- It's easy to use `pygeohydro` to get streamflow data for any USGS gauge.  \n",
    "- Your lab work will focus on a stream gauge near to some favorite (or personally interesting) place in the U.S."
   ]
  },
  {
   "cell_type": "code",
   "execution_count": null,
   "metadata": {
    "slideshow": {
     "slide_type": "fragment"
    }
   },
   "outputs": [],
   "source": [
    "import pandas as pd\n",
    "from pygeohydro import Station\n",
    "import pygeohydro.datasets as hds\n",
    "%matplotlib inline\n",
    "import warnings\n",
    "warnings.filterwarnings(\"ignore\") # Don't output warnings"
   ]
  },
  {
   "cell_type": "markdown",
   "metadata": {
    "slideshow": {
     "slide_type": "slide"
    }
   },
   "source": [
    "# 2. Background\n",
    "\n",
    "- The main concept we will be considering is mass balance. \n",
    "- Along with energy and momentum, mass is one of the three consitutents that are conserved in environmental systems. \n",
    "- Physical systems can be written as a statement of mass, energy, or momentum. \n",
    "- The key to creating these statements (or equations) of balance is determining the bounds of the system (it's geographic extent and structure) as well as the specific processes acting across those boundaries. "
   ]
  },
  {
   "cell_type": "code",
   "execution_count": null,
   "metadata": {
    "slideshow": {
     "slide_type": "subslide"
    }
   },
   "outputs": [],
   "source": [
    "station_id = '11138500'  # This is a USGS station ID. Later, I will show you how to find one on your own!\n",
    "start = '2015-10-01'     # Start date is the Oct. 1, 2016 which is the start of the 2016-2017 water year.\n",
    "end = '2018-09-30'       # End date is the Sept 30, 2019 which is the end of the 2018-2019 water year.\n",
    "\n",
    "# Create our watershed object using the station_id, start, and end dates\n",
    "wshed = Station(start=start, end=end, station_id=station_id, data_dir=\"../data/lab_1/\")"
   ]
  },
  {
   "cell_type": "markdown",
   "metadata": {
    "slideshow": {
     "slide_type": "slide"
    }
   },
   "source": [
    "## Viewing Watershed Hydrography \n",
    "\n",
    "We can use some of the dataset interfaces provided by `pygeohydro` to map the stream channels within our watershed. \n",
    "\n",
    "Access to the NHDPlus dataset is provided by the `NLDI` object, which is part of `pygeohydro`'s `datasets` class, which we imported earlier as `hds`. To query these datasets, we use the following code:\n"
   ]
  },
  {
   "cell_type": "code",
   "execution_count": null,
   "metadata": {
    "slideshow": {
     "slide_type": "fragment"
    }
   },
   "outputs": [],
   "source": [
    "# Find the hydrography associated with this station using the wshed.station_id:\n",
    "tributaries = hds.NLDI.tributaries(wshed.station_id)\n",
    "main_channel = hds.NLDI.main(wshed.station_id)\n",
    "stations = hds.NLDI.stations(wshed.station_id)"
   ]
  },
  {
   "cell_type": "markdown",
   "metadata": {
    "slideshow": {
     "slide_type": "slide"
    }
   },
   "source": [
    "## Viewing Watershed Hydrography \n",
    "\n",
    "\n",
    "We can then plot these data using internal `pygeohydro` plotting functions, which are special versions of `matplotlib` plotting functions with extra features for viewing our stream channels.\n"
   ]
  },
  {
   "cell_type": "code",
   "execution_count": null,
   "metadata": {
    "slideshow": {
     "slide_type": "subslide"
    }
   },
   "outputs": [],
   "source": [
    "# Create a plot of the basin boundaries, main channel, tributaries, and station locations. \n",
    "ax = wshed.basin.plot(color='white', edgecolor='black', zorder=1, figsize = (10, 10))\n",
    "tributaries.plot(ax=ax, label='Tributaries', zorder=2)\n",
    "main_channel.plot(ax=ax, color='green', lw=3, label='Main', zorder=3)\n",
    "stations.plot(ax=ax, color='black', label='All stations', marker='s', zorder=5)\n",
    "ax.legend(loc='upper left');\n",
    "ax.figure.set_dpi(100);\n",
    "ax.set_title(u'Sisquoc River near Sisquoc, CA ({lon:.2f}\\U000000b0W, {lat:.2f}\\U000000b0N)'.format(\n",
    "    lon=abs(wshed.lon),\n",
    "    lat=wshed.lat))"
   ]
  },
  {
   "cell_type": "markdown",
   "metadata": {
    "slideshow": {
     "slide_type": "slide"
    }
   },
   "source": [
    "## Viewing Basin Topography Using Digital Elevation Data\n",
    "We can get a better sense of this topography using Digital Elevation Data released by the USGS. \n"
   ]
  },
  {
   "cell_type": "code",
   "execution_count": null,
   "metadata": {
    "slideshow": {
     "slide_type": "fragment"
    }
   },
   "outputs": [],
   "source": [
    "# Grab the watershed Digital Elevation Data from the USGS and display it:\n",
    "dem = hds.nationalmap_dem(wshed.geometry, resolution=1)\n",
    "dem.plot(size=8);"
   ]
  },
  {
   "cell_type": "markdown",
   "metadata": {
    "slideshow": {
     "slide_type": "slide"
    }
   },
   "source": [
    "## A Catchment as a Physical System\n",
    "\n",
    "The water balance of a catchment is determined by the sum of inputs and outputs of water. If inputs are greater than outputs, the catchment is gaining water. If outputs are greater than inputs, the catchment is losing water. In the special case where outputs and inputs are equal, the catchment is neither gaining nor losing water, and the amount of water in the catchment is constant with time, meaning it is in _steady state_. \n",
    "\n",
    "The change in storage of water in the catchment ($\\Delta S$, [m$^3$]) can be written as:\n",
    "\n",
    "$ \\Delta S = P - ET - Q $\n",
    "\n",
    "\n",
    "Usually, we calculate the water balance over discrete time intervals, $\\Delta t$ (e.g. days, or years), in which case, the equation becomes:\n",
    "\n",
    "$\\frac{\\Delta S}{\\Delta t} = P(t) - ET(t) - Q(t) $\n",
    "\n",
    "and we have implicitly re-defined the units of $P$, $ET$, and $Q$ to be mass per time, [m$^3$/t]."
   ]
  },
  {
   "cell_type": "markdown",
   "metadata": {
    "slideshow": {
     "slide_type": "slide"
    }
   },
   "source": [
    "## Obtaining Precipitation, Discharge, and Rainfall data for a USGS station\n",
    "\n",
    "So far, we've been able to define a catchment upstream of a USGS gauge and visualize basin stream networks and topography. In order to study our simple basin water balance, we will need to obtain data on each of the three main fluxes: $Q$, $P$, and $ET$. "
   ]
  },
  {
   "cell_type": "markdown",
   "metadata": {
    "slideshow": {
     "slide_type": "slide"
    }
   },
   "source": [
    "### Discharge Data for our Station\n",
    "\n",
    "The `pygeohydro` allows us to access streamflow data stored in the National Water Information System ([NWIS](https://www.usgs.gov/nwis-national-water-information-system)), which contains water resource data for almost 1.5 million locations across the United States and US Territories. "
   ]
  },
  {
   "cell_type": "code",
   "execution_count": null,
   "metadata": {
    "slideshow": {
     "slide_type": "subslide"
    }
   },
   "outputs": [],
   "source": [
    "Q = hds.nwis_streamflow(wshed.station_id, wshed.start, wshed.end)\n",
    "Q.columns = ['Q [m^3/s]']\n",
    "Q.index.name = 'Datetime'\n",
    "Q['Dates'] = Q.index\n",
    "Q.tail()"
   ]
  },
  {
   "cell_type": "markdown",
   "metadata": {
    "slideshow": {
     "slide_type": "slide"
    }
   },
   "source": [
    "### Precipitation Data for our Station\n",
    "\n",
    "Unfortunately, most USGS streamflow gauges aren't at locations where rainfall data is also collected. Even if they were, rainfall varies across even small basins, so we'd still need to have some idea of what the average rainfall was over the entire watershed. Helpfully, the `hydromet` library includes the ability to query the Daily Surface Weather and Climatological Summaries ([Daymet](https://daymet.ornl.gov)), which is hosted at Oak Ridge National Laboratory's (ORNL's) Distributed Active Archive Center (DAAC). "
   ]
  },
  {
   "cell_type": "code",
   "execution_count": null,
   "metadata": {
    "slideshow": {
     "slide_type": "subslide"
    }
   },
   "outputs": [],
   "source": [
    "daymet = hds.daymet_byloc(wshed.lon, wshed.lat, start=wshed.start, end=wshed.end)\n",
    "daymet.head()"
   ]
  },
  {
   "cell_type": "code",
   "execution_count": null,
   "metadata": {
    "slideshow": {
     "slide_type": "subslide"
    }
   },
   "outputs": [],
   "source": [
    "P = pd.DataFrame(daymet['prcp (mm/day)'])\n",
    "P.columns = ['P [mm/day]']\n",
    "P.index.name = 'Datetime'\n",
    "P['Dates'] = P.index\n",
    "P.head()"
   ]
  },
  {
   "cell_type": "markdown",
   "metadata": {
    "slideshow": {
     "slide_type": "slide"
    }
   },
   "source": [
    "### Evapotranspiration Data for our Station\n",
    "\n",
    "Evapotranspiration data is the hardest to obtain as there are very few direct observations of evapotranspiration (but we will work with some of these direct measurements in our next lab!). For this lab, we are going to use a model-based estimate of actual evapotranspiration called the Operational Simplified Surface Energy Balance (SSEBop) model, which was developed at the USGS's Earth Resources Observation and Science ([EROS](https://www.usgs.gov/centers/eros)) Center.  \n",
    "\n",
    "We can access the SSEBop model estimates of evapotranspiration using the `ssedopeta_byloc` method:\n"
   ]
  },
  {
   "cell_type": "code",
   "execution_count": null,
   "metadata": {
    "slideshow": {
     "slide_type": "subslide"
    }
   },
   "outputs": [],
   "source": [
    "# Let's, load some SSEBop data that we've already downloaded from a csv using the pd.read_csv() command:\n",
    "ET = pd.read_csv('../data/lab_1/SSEBop_11123500.csv', usecols=['ET [mm/day]', 'datetime'], index_col='datetime')\n",
    "\n",
    "# Just as with our P and Q data, we assign the index and create a column of dates.\n",
    "ET.index.name = 'Datetime'\n",
    "ET['Dates'] = ET.index\n",
    "ET.head()"
   ]
  },
  {
   "cell_type": "markdown",
   "metadata": {
    "slideshow": {
     "slide_type": "slide"
    }
   },
   "source": [
    "## Hydromet Plotting tools\n",
    "\n",
    "The `hydrodata` package includes a handy utility for plotting streamflow and rainfall. I've modified this utility to give us a way to quickly look at the time series of our rainfall and streamflow data. "
   ]
  },
  {
   "cell_type": "code",
   "execution_count": null,
   "metadata": {
    "slideshow": {
     "slide_type": "subslide"
    }
   },
   "outputs": [],
   "source": [
    "# Visualize streamflow and rainfall data from our station\n",
    "from plot_Q_and_P import plot_Q_and_P\n",
    "\n",
    "plot_Q_and_P({\"Q\": (Q['Q [m^3/s]'], wshed.drainage_area)}, P['P [mm/day]'], figsize=(13,6))"
   ]
  },
  {
   "cell_type": "markdown",
   "metadata": {
    "slideshow": {
     "slide_type": "slide"
    }
   },
   "source": [
    "## Extra Stuff: Land Use Data\n",
    "\n",
    "While we don't use it in this lab, `hydrodata` also makes it possible to access land use and land cover data can be obtained from the Multi-Resolution Land Characteristics (MRLC) Consortium. By default the data are downloaded from NLCD 2016."
   ]
  },
  {
   "cell_type": "code",
   "execution_count": null,
   "metadata": {
    "slideshow": {
     "slide_type": "subslide"
    }
   },
   "outputs": [],
   "source": [
    "import rasterio\n",
    "import matplotlib.pyplot as plt\n",
    "from rasterio.plot import show\n",
    "from hydrodata import plot as hydroplot\n",
    "\n",
    "cmap, norm, levels = hydroplot.cover_legends()\n",
    "# Download LULC data for this watershed\n",
    "lulc = hds.nlcd(wshed.geometry, resolution=1)"
   ]
  },
  {
   "cell_type": "code",
   "execution_count": null,
   "metadata": {
    "slideshow": {
     "slide_type": "subslide"
    }
   },
   "outputs": [],
   "source": [
    "# Plot the watershed Land Cover and Canopy Cover for 2016\n",
    "fig, (ax1, ax2) = plt.subplots(1, 2, figsize=(12, 7), dpi=300)\n",
    "show(lulc['cover'], ax=ax1, title=f'Cover 2016', cmap=cmap, norm=norm)\n",
    "show(lulc['canopy'], ax=ax2, title=f'Canopy 2016', cmap='Greens')"
   ]
  },
  {
   "cell_type": "markdown",
   "metadata": {
    "slideshow": {
     "slide_type": "slide"
    }
   },
   "source": [
    "# The End"
   ]
  }
 ],
 "metadata": {
  "celltoolbar": "Slideshow",
  "kernelspec": {
   "display_name": "Python 3 (ipykernel)",
   "language": "python",
   "name": "python3"
  },
  "language_info": {
   "codemirror_mode": {
    "name": "ipython",
    "version": 3
   },
   "file_extension": ".py",
   "mimetype": "text/x-python",
   "name": "python",
   "nbconvert_exporter": "python",
   "pygments_lexer": "ipython3",
   "version": "3.10.5"
  }
 },
 "nbformat": 4,
 "nbformat_minor": 4
}
